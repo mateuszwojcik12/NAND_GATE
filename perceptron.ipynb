{
 "cells": [
  {
   "cell_type": "code",
   "execution_count": 65,
   "metadata": {
    "collapsed": true,
    "pycharm": {
     "is_executing": false,
     "name": "#%%\n"
    }
   },
   "outputs": [],
   "source": [
    "import pandas as pd\n",
    "import numpy as np\n",
    "\n",
    "# write dataset\n",
    "\n",
    "data_set_raw = [[1, 0, 0, 1],\n",
    "                [1, 0, 1, 1],\n",
    "                [1, 1, 0, 1],\n",
    "                [1, 1, 1, 0]]\n",
    "data_set = np.array(data_set_raw)\n",
    "\n",
    "x = data_set[:, :-1]\n",
    "y = data_set[:, -1:]\n"
   ]
  },
  {
   "cell_type": "code",
   "execution_count": 66,
   "outputs": [
    {
     "data": {
      "text/plain": "array([0., 0., 0.])"
     },
     "metadata": {},
     "output_type": "execute_result",
     "execution_count": 66
    }
   ],
   "source": [
    "# initialize the weights\n",
    "\n",
    "weights = np.zeros(len(x[0]))\n",
    "weights"
   ],
   "metadata": {
    "collapsed": false,
    "pycharm": {
     "name": "#%%\n",
     "is_executing": false
    }
   }
  },
  {
   "cell_type": "code",
   "execution_count": 67,
   "outputs": [
    {
     "name": "stdout",
     "text": [
      "[1.0, 1.5, 1.5, 0.0, 0.0, 0.0, 0.0, 0.0, 0.0, 0.0, 0.0, 0.0, 0.0, 0.0, 0.0, 0.0, 0.0, 0.0, 0.0, 0.0, 0.0, 0.0, 0.0, 0.0, 0.0, 0.0, 0.0, 0.0, 0.0, 0.0, 0.0, 0.0, 0.0, 0.0, 0.0, 0.0, 0.0, 0.0, 0.0, 0.0, 0.0, 0.0, 0.0, 0.0, 0.0, 0.0, 0.0, 0.0, 0.0, 0.0]\n"
     ],
     "output_type": "stream"
    },
    {
     "data": {
      "text/plain": "array([ 0.2, -0.2, -0.1])"
     },
     "metadata": {},
     "output_type": "execute_result",
     "execution_count": 67
    }
   ],
   "source": [
    "# configure params\n",
    "eras = 50\n",
    "threshold = 0\n",
    "learning_rate_eta = 0.1\n",
    "\n",
    "\n",
    "def perceptron():\n",
    "    era = 0\n",
    "    errors = np.ones(len(y))\n",
    "    J = []\n",
    "    estimates = np.ones(len(y))\n",
    "    while era < eras:\n",
    "        row_number = 0\n",
    "        for row in x:\n",
    "            f = np.dot(weights, row)\n",
    "            y_estimate = 1 if f > 0 else 0\n",
    "            if (y_estimate != y[row_number]):\n",
    "                update_weights(y_estimate, y[row_number], row)\n",
    "            estimates[row_number] = y_estimate\n",
    "            row_number += 1\n",
    "        era += 1\n",
    "        for i in range(0, len(y)):\n",
    "            errors[i] = (y[i] - estimates[i]) ** 2\n",
    "        J.append(0.5 * sum(errors))\n",
    "    print(J)\n",
    "        \n",
    "\n",
    "def update_weights(y_estimate, y_actual, x_actual_row):\n",
    "    for index in range(0, len(weights)):\n",
    "        weights[index] = weights[index] + learning_rate_eta*(y_actual-y_estimate) * x_actual_row[index]\n",
    "        \n",
    "perceptron()\n",
    "weights"
   ],
   "metadata": {
    "collapsed": false,
    "pycharm": {
     "name": "#%%\n",
     "is_executing": false
    }
   }
  },
  {
   "cell_type": "code",
   "execution_count": 67,
   "outputs": [],
   "source": [
    "\n"
   ],
   "metadata": {
    "collapsed": false,
    "pycharm": {
     "name": "#%%\n",
     "is_executing": false
    }
   }
  }
 ],
 "metadata": {
  "kernelspec": {
   "display_name": "Python 3",
   "language": "python",
   "name": "python3"
  },
  "language_info": {
   "codemirror_mode": {
    "name": "ipython",
    "version": 2
   },
   "file_extension": ".py",
   "mimetype": "text/x-python",
   "name": "python",
   "nbconvert_exporter": "python",
   "pygments_lexer": "ipython2",
   "version": "2.7.6"
  },
  "pycharm": {
   "stem_cell": {
    "cell_type": "raw",
    "source": [],
    "metadata": {
     "collapsed": false
    }
   }
  }
 },
 "nbformat": 4,
 "nbformat_minor": 0
}